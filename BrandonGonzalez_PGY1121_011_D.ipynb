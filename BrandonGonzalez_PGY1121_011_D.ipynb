{
  "nbformat": 4,
  "nbformat_minor": 0,
  "metadata": {
    "colab": {
      "provenance": []
    },
    "kernelspec": {
      "name": "python3",
      "display_name": "Python 3"
    },
    "language_info": {
      "name": "python"
    }
  },
  "cells": [
    {
      "cell_type": "markdown",
      "source": [
        "Pantallazo de archivo en github"
      ],
      "metadata": {
        "id": "gMVSSCdF4pxd"
      }
    },
    {
      "cell_type": "code",
      "execution_count": null,
      "metadata": {
        "colab": {
          "base_uri": "https://localhost:8080/"
        },
        "id": "_-O3TmGe29g0",
        "outputId": "a4ba2e8b-3ecb-4437-afd2-e6bf4694c90f"
      },
      "outputs": [
        {
          "output_type": "stream",
          "name": "stdout",
          "text": [
            "[['99999999' '-RTX' 'Brandon Gonzalez' '18']\n",
            " ['77777777' '-GRY' 'Dor Ramon' '42']\n",
            " ['99945645' '-NTX' 'asdada Gonzalez' '23']]\n",
            "Bienvenido al Registro de ciudadanos.\n",
            "\n",
            "Escoja una opcion del menú:\n",
            "\n",
            "1.-Grabar. \n",
            "2.-Buscar.\n",
            "3.-Imprimir certificados.\n",
            "4.-Salir.\n",
            "\n",
            "(Seleccione una de las opciones que se mnuestran en pantalla.)\n",
            "3\n",
            "¿Que tipo de Certificado busca?\n",
            "1.-Certificado de nacimiento.\n",
            "2.-Certificado de estado conyugal.\n",
            "3.-Certificado de pertenencia a la Unión Europea.\n",
            "\n",
            "(Seleccione una de las opciones que se mnuestran en pantalla.)\n",
            "1\n",
            "---------- Certificado de nacimiento ----------\n",
            "Ingrese su estado conyugal:\tsoltero\n",
            "¿Pertenece a la union europea?(si/no):\tsi\n",
            "NIF:\t 99999999 -RTX\n",
            "Nombre:\t Brandon Gonzalez\n",
            "Edad:\t 18\n",
            "Escoja una opcion del menú:\n",
            "\n",
            "1.-Grabar. \n",
            "2.-Buscar.\n",
            "3.-Imprimir certificados.\n",
            "4.-Salir.\n"
          ]
        }
      ],
      "source": [
        "import numpy as np\n",
        "\n",
        "# DEFINICIONES #\n",
        "def despedida():\n",
        "  print(\"\\nMuchas gracias por su visita, que tenga un buen día.\")\n",
        "  print(\"\\n\\nBrandon Gonzalez ver:0.1\")\n",
        "  return\n",
        "\n",
        "def opcion_menu():\n",
        "  try:\n",
        "    print(\"Escoja una opcion del menú:\\n\")\n",
        "    op_menu = int(input(\"\\n(Seleccione una de las opciones que se mnuestran en pantalla.)\\n\"))\n",
        "  except:\n",
        "    op_menu = 0\n",
        "\n",
        "##\n",
        "nacimiento = \"Certificado de nacimiento\"\n",
        "conyugal = \"Certificado de estado conyugal\"\n",
        "europea = \"Certificado de pertenencia a la Unión Europea\"\n",
        "menu3 = \"\"\n",
        "##\n",
        "\n",
        "#Switches#\n",
        "sw_menu = True\n",
        "sw_op3 = False\n",
        "#\n",
        "\n",
        "#Listas#\n",
        "nif = [[\"99999999\", \"-RTX\", \"Brandon Gonzalez\", 18],\n",
        "       [\"77777777\", \"-GRY\", \"Dor Ramon\", 42],\n",
        "      [\"99945645\", \"-NTX\", \"asdada Gonzalez\", 23]]\n",
        "\n",
        "#\n",
        "matriz = np.array(nif)\n",
        "\n",
        "print(matriz)\n",
        "\n",
        "print(\"Bienvenido al Registro de ciudadanos.\\n\")\n",
        "while sw_menu == True:\n",
        "  print(\"Escoja una opcion del menú:\\n\")\n",
        "  print(\"1.-Grabar. \")\n",
        "  print(\"2.-Buscar.\")\n",
        "  print(\"3.-Imprimir certificados.\")\n",
        "  print(\"4.-Salir.\")\n",
        "  try:\n",
        "    op_menu = int(input(\"\\n(Seleccione una de las opciones que se mnuestran en pantalla.)\\n\"))\n",
        "  except:\n",
        "    op_menu = 0\n",
        "    continue\n",
        "\n",
        "  if op_menu == 1:\n",
        "    print(\"Funciona opcion 1\")\n",
        "\n",
        "  elif op_menu == 2:\n",
        "    print(\"Funciona opcion 2\")\n",
        "  elif op_menu == 3:\n",
        "    sw_op3 = True\n",
        "    while sw_op3 == True:\n",
        "      print(\"¿Que tipo de Certificado busca?\")\n",
        "      print(\"1.-Certificado de nacimiento.\")\n",
        "      print(\"2.-Certificado de estado conyugal.\")\n",
        "      print(\"3.-Certificado de pertenencia a la Unión Europea.\")\n",
        "      try:\n",
        "        op_menu3 = int(input(\"\\n(Seleccione una de las opciones que se mnuestran en pantalla.)\\n\"))\n",
        "      except:\n",
        "        op_menu3 = 0\n",
        "        continue\n",
        "      if op_menu3 == 1:\n",
        "        menu3 = nacimiento\n",
        "      elif op_menu3 == 2:\n",
        "        menu3 = conyugal\n",
        "      elif op_menu3 == 3:\n",
        "        menu3 = europea\n",
        "      if menu3 == nacimiento or menu3 == conyugal or menu3 == europea:\n",
        "        print(\"-\"*10,menu3,\"-\"*10)\n",
        "        estado = input(\"Ingrese su estado conyugal:\\t\")\n",
        "        pertenece = input(\"¿Pertenece a la union europea?(si/no):\\t\")\n",
        "        print(\"NIF:\\t\", matriz[0,0],matriz[0,1])\n",
        "        print(\"Nombre:\\t\",matriz[0,2])\n",
        "        print(\"Edad:\\t\", matriz[0,3])\n",
        "        sw_op3 = False\n",
        "##Parte 4 lista (Borrar al final)\n",
        "  elif op_menu == 4:\n",
        "    despedida()\n",
        "    break\n",
        "  else:\n",
        "    print(\"\\nIngrese una opcion valida.\\n\")"
      ]
    }
  ]
}